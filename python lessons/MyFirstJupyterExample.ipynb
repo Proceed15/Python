{
 "cells": [
  {
   "cell_type": "markdown",
   "id": "4e97f64e-717f-4d8d-810f-180e6206632a",
   "metadata": {},
   "source": [
    "# My first Jupyter example"
   ]
  },
  {
   "cell_type": "code",
   "execution_count": 1,
   "id": "197adc25-3b5c-46c4-bae3-38b1f3d55d90",
   "metadata": {},
   "outputs": [
    {
     "name": "stdout",
     "output_type": "stream",
     "text": [
      "4\n"
     ]
    }
   ],
   "source": [
    "num1 = 1\n",
    "num2 = 3\n",
    "print(num1 + num2)"
   ]
  },
  {
   "cell_type": "code",
   "execution_count": 2,
   "id": "87dcfc81-745b-4044-a76d-db1f1ce30bc2",
   "metadata": {},
   "outputs": [
    {
     "name": "stdout",
     "output_type": "stream",
     "text": [
      "1\n"
     ]
    }
   ],
   "source": [
    "print(num1)"
   ]
  }
 ],
 "metadata": {
  "kernelspec": {
   "display_name": "Python 3 (ipykernel)",
   "language": "python",
   "name": "python3"
  },
  "language_info": {
   "codemirror_mode": {
    "name": "ipython",
    "version": 3
   },
   "file_extension": ".py",
   "mimetype": "text/x-python",
   "name": "python",
   "nbconvert_exporter": "python",
   "pygments_lexer": "ipython3",
   "version": "3.11.8"
  }
 },
 "nbformat": 4,
 "nbformat_minor": 5
}
